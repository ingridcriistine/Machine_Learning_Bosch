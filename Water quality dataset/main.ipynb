{
 "cells": [
  {
   "cell_type": "code",
   "execution_count": 22,
   "metadata": {},
   "outputs": [
    {
     "name": "stdout",
     "output_type": "stream",
     "text": [
      "0.9233333333333333\n",
      "[[1030   17]\n",
      " [  75   78]]\n",
      "0.9446733372572101\n",
      "[[5956   81]\n",
      " [ 295  464]]\n"
     ]
    }
   ],
   "source": [
    "import pandas as pd\n",
    "import numpy as np\n",
    "from joblib import dump\n",
    "import matplotlib.pyplot as plt\n",
    "from sklearn.decomposition import PCA\n",
    "from sklearn import tree\n",
    "from sklearn.discriminant_analysis import StandardScaler\n",
    "from sklearn.ensemble import HistGradientBoostingClassifier, RandomForestClassifier\n",
    "from sklearn.linear_model import ElasticNet\n",
    "from sklearn.neighbors import KNeighborsClassifier\n",
    "from sklearn.pipeline import Pipeline\n",
    "from sklearn.preprocessing import normalize, LabelEncoder\n",
    "from sklearn.metrics import mean_absolute_error, r2_score, confusion_matrix, accuracy_score\n",
    "from sklearn.model_selection import train_test_split, GridSearchCV, cross_val_score\n",
    "from sklearn.svm import SVC\n",
    "\n",
    "df = pd.read_csv('waterQuality.csv')\n",
    "df = df.replace('#NUM!', np.nan)\n",
    "df.dropna(inplace=True)\n",
    "\n",
    "Y = df['is_safe']\n",
    "X = df.drop('is_safe', axis = 1)\n",
    "\n",
    "pca = PCA(n_components = 'mle') #decide o melhor número de forma automatizada\n",
    "pca.fit(X)\n",
    "X = pca.transform(X)\n",
    "\n",
    "X_train, X_test, Y_train, Y_test = train_test_split(X, Y, test_size=0.15,\n",
    "random_state=42)\n",
    "\n",
    "pipeline = Pipeline ([\n",
    "    ('scaler', StandardScaler()),\n",
    "    ('classifier', tree.DecisionTreeClassifier(random_state=100)),\n",
    "    # ('classifier', HistGradientBoostingClassifier(max_iter=100)),\n",
    "    # ('classifier', SVC()),\n",
    "    # ('classifier', RandomForestClassifier()),\n",
    "    # ('classifier', KNeighborsClassifier()),\n",
    "])\n",
    "\n",
    "parameters = {\n",
    "    #Decision Tree\n",
    "    'classifier__max_depth' : [6, 7, 8],\n",
    "    'classifier__min_samples_split' : [2, 3, 4],\n",
    "    'classifier__min_samples_leaf': [5, 6, 7],  \n",
    "    'classifier__max_features': [None],\n",
    "\n",
    "    # #Gradient Boosting\n",
    "    # 'classifier__max_depth' : [16, 17, 18, 19],\n",
    "    # 'classifier__min_samples_leaf' : list(range(2, 10)),\n",
    "    # 'classifier__learning_rate' : list(range(1, 5)),\n",
    "\n",
    "    # #SVC\n",
    "    # 'classifier__kernel' : ['linear', 'poly', 'rbf', 'sigmoid'],\n",
    "    # 'classifier__degree' : list(range(2, 5)),\n",
    "\n",
    "    # #Random Forest\n",
    "    # 'classifier__max_depth' : [18, 19, 20],\n",
    "    # 'classifier__min_samples_split' : [9, 10, 11],\n",
    "\n",
    "    # #KNeighbours\n",
    "    # 'classifier__n_neighbors': [3, 4, 5, 6],\n",
    "    # 'classifier__algorithm': ['auto'],\n",
    "    # 'classifier__leaf_size': [1],\n",
    "}\n",
    "\n",
    "model = GridSearchCV(\n",
    "    pipeline,\n",
    "    parameters,\n",
    "    n_jobs = 3\n",
    ")\n",
    "\n",
    "# model = GridSearchCV(\n",
    "#     SVC(),\n",
    "#     {\n",
    "#         'kernel' : ['linear', 'poly', 'rbf', 'sigmoid'],\n",
    "#         'degree' : list(range(2, 5))\n",
    "#     },\n",
    "#     n_jobs = 5\n",
    "# )\n",
    "\n",
    "model.fit(X_train, Y_train)\n",
    "# print(model.best_params_)\n",
    "\n",
    "# model = model.best_estimator_\n",
    "# model.fit(X_train, Y_train)\n",
    "# dump(model, 'model.pkl')\n",
    "\n",
    "\n",
    "print(accuracy_score(Y_test, model.predict(X_test)))\n",
    "print(confusion_matrix(Y_test, model.predict(X_test)))\n",
    "print(accuracy_score(Y_train, model.predict(X_train)))\n",
    "print(confusion_matrix(Y_train, model.predict(X_train)))\n"
   ]
  },
  {
   "cell_type": "code",
   "execution_count": 23,
   "metadata": {},
   "outputs": [
    {
     "name": "stdout",
     "output_type": "stream",
     "text": [
      "{'classifier__max_depth': 7, 'classifier__max_features': None, 'classifier__min_samples_leaf': 6, 'classifier__min_samples_split': 2}\n"
     ]
    }
   ],
   "source": [
    "print(model.best_params_)"
   ]
  }
 ],
 "metadata": {
  "kernelspec": {
   "display_name": "Python 3",
   "language": "python",
   "name": "python3"
  },
  "language_info": {
   "codemirror_mode": {
    "name": "ipython",
    "version": 3
   },
   "file_extension": ".py",
   "mimetype": "text/x-python",
   "name": "python",
   "nbconvert_exporter": "python",
   "pygments_lexer": "ipython3",
   "version": "3.12.1"
  }
 },
 "nbformat": 4,
 "nbformat_minor": 2
}
