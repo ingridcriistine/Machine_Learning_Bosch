{
 "cells": [
  {
   "cell_type": "code",
   "execution_count": 16,
   "metadata": {},
   "outputs": [
    {
     "name": "stdout",
     "output_type": "stream",
     "text": [
      "0.9629629629629629\n",
      "0.993421052631579\n"
     ]
    }
   ],
   "source": [
    "import pandas as pd\n",
    "import numpy as np\n",
    "from joblib import dump\n",
    "import matplotlib.pyplot as plt\n",
    "from sklearn.decomposition import PCA\n",
    "from sklearn import tree\n",
    "from sklearn.ensemble import HistGradientBoostingClassifier, RandomForestClassifier\n",
    "from sklearn.linear_model import ElasticNet\n",
    "from sklearn.preprocessing import normalize, LabelEncoder\n",
    "from sklearn.metrics import mean_absolute_error, r2_score, confusion_matrix, accuracy_score\n",
    "from sklearn.model_selection import train_test_split, GridSearchCV, cross_val_score\n",
    "from sklearn.svm import SVC\n",
    "\n",
    "df = pd.read_csv('dermatology.csv')\n",
    "df = df.replace('?', np.nan)\n",
    "df.dropna(inplace=True)\n",
    "\n",
    "Y = df['class']\n",
    "X = df.drop('class', axis = 1)\n",
    "\n",
    "pca = PCA(n_components = 'mle') #decide o melhor número de forma automatizada\n",
    "pca.fit(X)\n",
    "X = pca.transform(X)\n",
    "\n",
    "X_train, X_test, Y_train, Y_test = train_test_split(X, Y, test_size=0.15,\n",
    "random_state=42)\n",
    "# print(Y_test)\n",
    "\n",
    "# model = GridSearchCV(\n",
    "#     tree.DecisionTreeClassifier(random_state=100),\n",
    "#     {\n",
    "#         'max_depth' : [4, 5, 6],\n",
    "#         'min_samples_split' : [2, 3],\n",
    "#         'min_samples_leaf': [4, 5, 6]\n",
    "#     },\n",
    "#     n_jobs = 4\n",
    "# )\n",
    "\n",
    "model = GridSearchCV(\n",
    "    SVC(),\n",
    "    {\n",
    "        'kernel' : ['linear', 'poly', 'rbf', 'sigmoid'],\n",
    "        'degree' : list(range(2, 5))\n",
    "    },\n",
    "    n_jobs = 5\n",
    ")\n",
    "\n",
    "model.fit(X_train, Y_train)\n",
    "\n",
    "\n",
    "print(accuracy_score(Y_test, model.predict(X_test)))\n",
    "print(accuracy_score(Y_train, model.predict(X_train)))"
   ]
  },
  {
   "cell_type": "code",
   "execution_count": 4,
   "metadata": {},
   "outputs": [
    {
     "name": "stdout",
     "output_type": "stream",
     "text": [
      "{'max_depth': 6, 'max_features': None, 'min_samples_leaf': 5, 'min_samples_split': 2}\n"
     ]
    }
   ],
   "source": [
    "print(model.best_params_)"
   ]
  }
 ],
 "metadata": {
  "kernelspec": {
   "display_name": "Python 3",
   "language": "python",
   "name": "python3"
  },
  "language_info": {
   "codemirror_mode": {
    "name": "ipython",
    "version": 3
   },
   "file_extension": ".py",
   "mimetype": "text/x-python",
   "name": "python",
   "nbconvert_exporter": "python",
   "pygments_lexer": "ipython3",
   "version": "3.12.1"
  }
 },
 "nbformat": 4,
 "nbformat_minor": 2
}
