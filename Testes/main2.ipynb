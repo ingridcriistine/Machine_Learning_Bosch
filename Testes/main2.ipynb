{
 "cells": [
  {
   "cell_type": "code",
   "execution_count": null,
   "metadata": {
    "vscode": {
     "languageId": "plaintext"
    }
   },
   "outputs": [],
   "source": [
    "import pandas as pd\n",
    "from sklearn.model_selection import train_test_split\n",
    "from sklearn.linear_model import LinearRegression # Um algoritmo qualquer\n",
    "from sklearn.tree import DecisionTreeClassifier, DecisionTreeRegressor\n",
    "from joblib import dump, load\n",
    "from sklearn.metrics import mean_absolute_error\n",
    "\n",
    "df = pd.read_csv('sample_data/california_housing_train.csv')\n",
    "# obtendo o nosso objetivo\n",
    "Y = df['median_house_value']\n",
    "# removendo o objetivo do resto dos dados\n",
    "X = df.drop('median_house_value', axis=1)\n",
    "\n",
    "# test_size = proporção que vai para teste\n",
    "# random_state = semente aleatória para embaralhar os dados\n",
    "X_train, X_test, Y_train, Y_test = train_test_split(X, Y, test_size=0.10, random_state=42)\n",
    "\n",
    "# Criando e treinando o modelo\n",
    "model = LinearRegression()\n",
    "model2 = DecisionTreeRegressor( # Versão do Desicion Tree de Regressão\n",
    "    max_depth=20,\n",
    "    min_samples_split=10\n",
    ")\n",
    "\n",
    "model.fit(X_train, Y_train)\n",
    "\n",
    "# salva o modelo treinado para uso posterior\n",
    "dump(model, 'filename.joblib')\n",
    "# model = load('filename.joblib') # carrega o modelo, evidentemente não é necessárioagora\n",
    "\n",
    "Y_real = Y_train\n",
    "Y_pred = model.predict(X_train)\n",
    "train_error = mean_absolute_error(Y_real, Y_pred)\n",
    "\n",
    "Y_real = Y_test\n",
    "Y_pred = model.predict(X_test)\n",
    "test_error = mean_absolute_error(Y_real, Y_pred)\n",
    "\n",
    "print(train_error, test_error) # 50786 50922"
   ]
  }
 ],
 "metadata": {
  "language_info": {
   "name": "python"
  }
 },
 "nbformat": 4,
 "nbformat_minor": 2
}
