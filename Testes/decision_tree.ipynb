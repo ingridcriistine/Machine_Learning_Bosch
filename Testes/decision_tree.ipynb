{
 "cells": [
  {
   "cell_type": "code",
   "execution_count": null,
   "metadata": {
    "vscode": {
     "languageId": "plaintext"
    }
   },
   "outputs": [],
   "source": [
    "fit(data, depth, minsamples)\n",
    "{\n",
    "    probs = calcula probabilidades relativo aos dados\n",
    "    node = {\n",
    "    probs: probs,\n",
    "    feature: null,\n",
    "    value: null,\n",
    "    left: null,\n",
    "    right: null\n",
    "    }\n",
    "\n",
    "    if (depth == 0)\n",
    "        return node\n",
    "\n",
    "    if (data.Length < minsamples)\n",
    "        return node\n",
    "\n",
    "    Encontra melhor caracteristica feature e divisão x usando Entropia ou Gini\n",
    "    node.feature = feature\n",
    "    node.value = x\n",
    "\n",
    "    XL = []\n",
    "    XR = []\n",
    "    for row in data:\n",
    "        if (row[feature] < x)\n",
    "        XL.add(row)\n",
    "        else XR.add(row)\n",
    "\n",
    "    leftNode = fit(XL, depth - 1, minsamples)\n",
    "    rightNode = fit(XR, depth - 1, minsamples)\n",
    "\n",
    "    node.left = leftNode\n",
    "    node.right = rightNode\n",
    "\n",
    "    return node\n",
    "}"
   ]
  },
  {
   "cell_type": "code",
   "execution_count": null,
   "metadata": {},
   "outputs": [],
   "source": [
    "from sklearn.tree import DecisionTreeClassifier, DecisionTreeRegressor\n",
    "2\n",
    "3 model = DecisionTreeClassifier(\n",
    "    4 criterion = \"entropy\",\n",
    "    5 max_depth=20,\n",
    "    6 min_samples_split=10\n",
    "7 )\n",
    "8 model.fit(X_train, Y_train)\n",
    "9\n",
    "10 model = DecisionTreeRegressor( # Versão do Desicion Tree de Regressão\n",
    "    11 max_depth=20,\n",
    "    12 min_samples_split=10\n",
    "13 )"
   ]
  }
 ],
 "metadata": {
  "language_info": {
   "name": "python"
  }
 },
 "nbformat": 4,
 "nbformat_minor": 2
}
