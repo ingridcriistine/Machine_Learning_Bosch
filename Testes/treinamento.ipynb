{
 "cells": [
  {
   "cell_type": "code",
   "execution_count": null,
   "metadata": {
    "vscode": {
     "languageId": "plaintext"
    }
   },
   "outputs": [],
   "source": [
    "import pandas as pd\n",
    "from sklearn.model_selection import train_test_split, GridSearchCV\n",
    "from sklearn.ensemble import RandomForestRegressor # Outro algoritmo qualquer\n",
    "from joblib import dump\n",
    "from sklearn.preprocessing import StandardScaler\n",
    "from sklearn.metrics import mean_absolute_error\n",
    "from sklearn.pipeline import Pipeline\n",
    "\n",
    "df = pd.read_csv('sample_data/california_housing_train.csv')\n",
    "Y = df['median_house_value']\n",
    "X = df.drop('median_house_value', axis=1)\n",
    "X_train, X_test, Y_train, Y_test = train_test_split(X, Y, test_size=0.10, random_state=4\n",
    "2)\n",
    "\n",
    "# Criando e treinando o modelo\n",
    "pipeline = Pipeline([\n",
    "('scaler', StandardScaler()), # Normalização\n",
    "('regressor', RandomForestRegressor())\n",
    "])\n",
    "\n",
    "# Parâmetros tirados da documentação do RandomForestRegressor\n",
    "# que não sabemos um bom valor e queremos achar o melhor\n",
    "# regressor definido no pipeline + __ + nome do parâmetro no construtor\n",
    "parameters = {\n",
    "'regressor__n_estimators': [10, 20, 30],\n",
    "'regressor__max_depth': [10, 20],\n",
    "'regressor__min_samples_split': [5, 10]\n",
    "}\n",
    "\n",
    "# n_jobs para executar paralelamente\n",
    "grid_search = GridSearchCV(pipeline, parameters, cv=5, n_jobs=2)\n",
    "grid_search.fit(X_train, Y_train)\n",
    "dump(grid_search, 'model2.pkl')\n",
    "\n",
    "Y_real = Y_train\n",
    "Y_pred = grid_search.predict(X_train)\n",
    "train_error = mean_absolute_error(Y_real, Y_pred)\n",
    "\n",
    "Y_real = Y_test\n",
    "Y_pred = grid_search.predict(X_test)\n",
    "test_error = mean_absolute_error(Y_real, Y_pred)\n",
    "\n",
    "print(train_error, test_error) # 14798 32898"
   ]
  }
 ],
 "metadata": {
  "language_info": {
   "name": "python"
  }
 },
 "nbformat": 4,
 "nbformat_minor": 2
}
