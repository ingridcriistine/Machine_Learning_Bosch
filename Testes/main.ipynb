{
 "cells": [
  {
   "cell_type": "code",
   "execution_count": null,
   "metadata": {
    "vscode": {
     "languageId": "plaintext"
    }
   },
   "outputs": [],
   "source": [
    "!pip install pandas\n",
    "!pip install -U scikit-learn\n",
    "!pip install matplotlib"
   ]
  },
  {
   "cell_type": "code",
   "execution_count": null,
   "metadata": {
    "vscode": {
     "languageId": "plaintext"
    }
   },
   "outputs": [],
   "source": [
    "import pandas as pd\n",
    "df = pd.read_csv('sample_data/california_housing_train.csv')\n",
    "df = df.dropna()\n",
    "df = df.fillna('Dado ausente.')\n",
    "\n",
    "latitudeMedia = df['longitude'].mean()\n",
    "df['latitude'] = df['latitude'].fillna(latitudeMedia)\n",
    "\n",
    "coluna_data = 'housing_median_age'\n",
    "df[coluna_data] = pd.to_datetime(df[coluna_data])\n",
    "\n",
    "df.loc[10, 'longitude'] = -114.5\n",
    "df.drop(8, inplace = True)\n",
    "\n",
    "for x in df.index:\n",
    "  if df.loc[x, 'latitude'] < -200:\n",
    "    df.loc[x, 'latitude'] = -114\n",
    "  elif df.loc[x, 'longitude'] > 1000:\n",
    "    df.drop(x, inplace = True)\n",
    "\n",
    "df.drop_duplicates(inplace = True)"
   ]
  },
  {
   "cell_type": "code",
   "execution_count": null,
   "metadata": {
    "vscode": {
     "languageId": "plaintext"
    }
   },
   "outputs": [],
   "source": [
    "from sklearn.preprocessing import LabelEncoder\n",
    "\n",
    "le = LabelEncoder()\n",
    "df['TipoSanguineo'] = le.fit_transform(df['TipoSanguineo']) "
   ]
  },
  {
   "cell_type": "code",
   "execution_count": null,
   "metadata": {
    "vscode": {
     "languageId": "plaintext"
    }
   },
   "outputs": [],
   "source": [
    "import pandas as pd\n",
    "import matplotlib.pyplot as plt\n",
    "\n",
    "df = pd.read_csv('sample_data/california_housing_train.csv')\n",
    "plt.hist(df['latitude'])\n",
    "plt.xlabel('Valor da casa (US$)')\n",
    "plt.ylabel('Quantidade de casas')"
   ]
  },
  {
   "cell_type": "code",
   "execution_count": null,
   "metadata": {
    "vscode": {
     "languageId": "plaintext"
    }
   },
   "outputs": [],
   "source": [
    "df.boxplot(column = ['latitude'])"
   ]
  },
  {
   "cell_type": "code",
   "execution_count": null,
   "metadata": {
    "vscode": {
     "languageId": "plaintext"
    }
   },
   "outputs": [],
   "source": [
    "df.plot.scatter(x = 'latitude', y= 'longitude', s = 1)"
   ]
  }
 ],
 "metadata": {
  "language_info": {
   "name": "python"
  }
 },
 "nbformat": 4,
 "nbformat_minor": 2
}
