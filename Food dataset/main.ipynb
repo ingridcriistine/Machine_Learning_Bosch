{
 "cells": [
  {
   "cell_type": "code",
   "execution_count": 77,
   "metadata": {},
   "outputs": [],
   "source": [
    "import os\n",
    "from tensorflow.keras import models, layers, activations, optimizers, utils, losses, initializers, metrics, callbacks"
   ]
  },
  {
   "cell_type": "code",
   "execution_count": 78,
   "metadata": {},
   "outputs": [],
   "source": [
    "path = './dataset'\n",
    "epochs = 100\n",
    "batch_size = 32\n",
    "patience = 5\n",
    "learning_rate = 0.001\n",
    "model_path = './dataset/model.keras'"
   ]
  },
  {
   "cell_type": "code",
   "execution_count": null,
   "metadata": {},
   "outputs": [],
   "source": [
    "model = models.Sequential([\n",
    "    layers.Resizing(56, 56),\n",
    "    layers.Rescaling(1.0/255),\n",
    "    layers.RandomRotation((-0.2, 0.2)),\n",
    "\n",
    "    layers.Conv2D(32, (3, 3), # 32 @ 54x54\n",
    "         activation = 'relu',\n",
    "         kernel_initializer = initializers.RandomNormal()\n",
    "    ),\n",
    "    layers.MaxPooling2D((2, 2)), # 32 @ 27x27\n",
    "\n",
    "    layers.Conv2D(64, (3, 3), # 2048 @ 24x24\n",
    "        activation = 'relu',\n",
    "        kernel_initializer = initializers.RandomNormal()\n",
    "    ),\n",
    "    layers.MaxPooling2D((2, 2)), # 2048 @ 8x8\n",
    "\n",
    "    layers.Flatten(), # ~125k parametros\n",
    "\n",
    "    layers.Dropout(0.2), # 20% dos neurônios serão desativados\n",
    "    layers.Dense(1024,\n",
    "        activation = 'relu',\n",
    "        kernel_initializer = initializers.RandomNormal()\n",
    "    ),\n",
    "\n",
    "    layers.Dense(1024,\n",
    "        activation = 'relu',\n",
    "        kernel_initializer = initializers.RandomNormal()\n",
    "    ),\n",
    "    \n",
    "    layers.Dense(1024,\n",
    "        activation = 'relu', #activations.relu()\n",
    "        kernel_initializer = initializers.RandomNormal()\n",
    "    ),\n",
    "\n",
    "    layers.Dense(11,\n",
    "        activation = 'sigmoid',\n",
    "        kernel_initializer = initializers.RandomNormal()\n",
    "    ),\n",
    "                 \n",
    "])"
   ]
  },
  {
   "cell_type": "code",
   "execution_count": 80,
   "metadata": {},
   "outputs": [],
   "source": [
    "model.compile(\n",
    "    optimizer = optimizers.Adam(\n",
    "        learning_rate = learning_rate\n",
    "    ),\n",
    "    loss = losses.SparseCategoricalCrossentropy(),\n",
    "    metrics = [ \n",
    "        metrics.SparseCategoricalAccuracy()\n",
    "    ]\n",
    ")"
   ]
  },
  {
   "cell_type": "code",
   "execution_count": 81,
   "metadata": {},
   "outputs": [
    {
     "name": "stdout",
     "output_type": "stream",
     "text": [
      "Found 3347 files belonging to 11 classes.\n",
      "Using 2678 files for training.\n",
      "Found 3347 files belonging to 11 classes.\n",
      "Using 669 files for validation.\n"
     ]
    }
   ],
   "source": [
    "train = utils.image_dataset_from_directory(\n",
    "    path,\n",
    "    validation_split=0.2,\n",
    "    subset = \"training\",\n",
    "    shuffle = True,\n",
    "    seed = 423,\n",
    "    image_size = (224, 224),\n",
    "    batch_size = batch_size\n",
    ")\n",
    "\n",
    "test = utils.image_dataset_from_directory(\n",
    "    path,\n",
    "    validation_split=0.2,\n",
    "    subset = \"validation\",\n",
    "    shuffle = True,\n",
    "    seed = 42,\n",
    "    image_size = (224, 224),\n",
    "    batch_size = batch_size\n",
    ")"
   ]
  },
  {
   "cell_type": "code",
   "execution_count": 82,
   "metadata": {},
   "outputs": [
    {
     "name": "stdout",
     "output_type": "stream",
     "text": [
      "Epoch 1/100\n",
      "\u001b[1m84/84\u001b[0m \u001b[32m━━━━━━━━━━━━━━━━━━━━\u001b[0m\u001b[37m\u001b[0m \u001b[1m15s\u001b[0m 152ms/step - loss: 2.6317 - sparse_categorical_accuracy: 0.1603 - val_loss: 2.1434 - val_sparse_categorical_accuracy: 0.2227\n",
      "Epoch 2/100\n",
      "\u001b[1m84/84\u001b[0m \u001b[32m━━━━━━━━━━━━━━━━━━━━\u001b[0m\u001b[37m\u001b[0m \u001b[1m13s\u001b[0m 156ms/step - loss: 2.1550 - sparse_categorical_accuracy: 0.2270 - val_loss: 2.0075 - val_sparse_categorical_accuracy: 0.3214\n",
      "Epoch 3/100\n",
      "\u001b[1m84/84\u001b[0m \u001b[32m━━━━━━━━━━━━━━━━━━━━\u001b[0m\u001b[37m\u001b[0m \u001b[1m14s\u001b[0m 164ms/step - loss: 2.1286 - sparse_categorical_accuracy: 0.2375 - val_loss: 2.0824 - val_sparse_categorical_accuracy: 0.2795\n",
      "Epoch 4/100\n",
      "\u001b[1m84/84\u001b[0m \u001b[32m━━━━━━━━━━━━━━━━━━━━\u001b[0m\u001b[37m\u001b[0m \u001b[1m13s\u001b[0m 151ms/step - loss: 2.0060 - sparse_categorical_accuracy: 0.2887 - val_loss: 1.9386 - val_sparse_categorical_accuracy: 0.3244\n",
      "Epoch 5/100\n",
      "\u001b[1m84/84\u001b[0m \u001b[32m━━━━━━━━━━━━━━━━━━━━\u001b[0m\u001b[37m\u001b[0m \u001b[1m13s\u001b[0m 153ms/step - loss: 2.0071 - sparse_categorical_accuracy: 0.2754 - val_loss: 1.9419 - val_sparse_categorical_accuracy: 0.2915\n",
      "Epoch 6/100\n",
      "\u001b[1m84/84\u001b[0m \u001b[32m━━━━━━━━━━━━━━━━━━━━\u001b[0m\u001b[37m\u001b[0m \u001b[1m12s\u001b[0m 148ms/step - loss: 1.9154 - sparse_categorical_accuracy: 0.3095 - val_loss: 1.7619 - val_sparse_categorical_accuracy: 0.3782\n",
      "Epoch 7/100\n",
      "\u001b[1m84/84\u001b[0m \u001b[32m━━━━━━━━━━━━━━━━━━━━\u001b[0m\u001b[37m\u001b[0m \u001b[1m13s\u001b[0m 151ms/step - loss: 1.8733 - sparse_categorical_accuracy: 0.3427 - val_loss: 1.6121 - val_sparse_categorical_accuracy: 0.4499\n",
      "Epoch 8/100\n",
      "\u001b[1m84/84\u001b[0m \u001b[32m━━━━━━━━━━━━━━━━━━━━\u001b[0m\u001b[37m\u001b[0m \u001b[1m13s\u001b[0m 152ms/step - loss: 1.8006 - sparse_categorical_accuracy: 0.3650 - val_loss: 1.5816 - val_sparse_categorical_accuracy: 0.4185\n",
      "Epoch 9/100\n",
      "\u001b[1m84/84\u001b[0m \u001b[32m━━━━━━━━━━━━━━━━━━━━\u001b[0m\u001b[37m\u001b[0m \u001b[1m13s\u001b[0m 153ms/step - loss: 1.7605 - sparse_categorical_accuracy: 0.3730 - val_loss: 1.5669 - val_sparse_categorical_accuracy: 0.4514\n",
      "Epoch 10/100\n",
      "\u001b[1m84/84\u001b[0m \u001b[32m━━━━━━━━━━━━━━━━━━━━\u001b[0m\u001b[37m\u001b[0m \u001b[1m13s\u001b[0m 152ms/step - loss: 1.6900 - sparse_categorical_accuracy: 0.4037 - val_loss: 1.4431 - val_sparse_categorical_accuracy: 0.5082\n",
      "Epoch 11/100\n",
      "\u001b[1m84/84\u001b[0m \u001b[32m━━━━━━━━━━━━━━━━━━━━\u001b[0m\u001b[37m\u001b[0m \u001b[1m13s\u001b[0m 157ms/step - loss: 1.6103 - sparse_categorical_accuracy: 0.4351 - val_loss: 1.5873 - val_sparse_categorical_accuracy: 0.4559\n",
      "Epoch 12/100\n",
      "\u001b[1m84/84\u001b[0m \u001b[32m━━━━━━━━━━━━━━━━━━━━\u001b[0m\u001b[37m\u001b[0m \u001b[1m13s\u001b[0m 159ms/step - loss: 1.6149 - sparse_categorical_accuracy: 0.4400 - val_loss: 1.3469 - val_sparse_categorical_accuracy: 0.5277\n",
      "Epoch 13/100\n",
      "\u001b[1m84/84\u001b[0m \u001b[32m━━━━━━━━━━━━━━━━━━━━\u001b[0m\u001b[37m\u001b[0m \u001b[1m13s\u001b[0m 157ms/step - loss: 1.5199 - sparse_categorical_accuracy: 0.4572 - val_loss: 1.3275 - val_sparse_categorical_accuracy: 0.5381\n",
      "Epoch 14/100\n",
      "\u001b[1m84/84\u001b[0m \u001b[32m━━━━━━━━━━━━━━━━━━━━\u001b[0m\u001b[37m\u001b[0m \u001b[1m13s\u001b[0m 149ms/step - loss: 1.4376 - sparse_categorical_accuracy: 0.5021 - val_loss: 1.3036 - val_sparse_categorical_accuracy: 0.5845\n",
      "Epoch 15/100\n",
      "\u001b[1m84/84\u001b[0m \u001b[32m━━━━━━━━━━━━━━━━━━━━\u001b[0m\u001b[37m\u001b[0m \u001b[1m13s\u001b[0m 152ms/step - loss: 1.3964 - sparse_categorical_accuracy: 0.5163 - val_loss: 1.2871 - val_sparse_categorical_accuracy: 0.5770\n",
      "Epoch 16/100\n",
      "\u001b[1m84/84\u001b[0m \u001b[32m━━━━━━━━━━━━━━━━━━━━\u001b[0m\u001b[37m\u001b[0m \u001b[1m13s\u001b[0m 150ms/step - loss: 1.3113 - sparse_categorical_accuracy: 0.5456 - val_loss: 1.1378 - val_sparse_categorical_accuracy: 0.6084\n",
      "Epoch 17/100\n",
      "\u001b[1m84/84\u001b[0m \u001b[32m━━━━━━━━━━━━━━━━━━━━\u001b[0m\u001b[37m\u001b[0m \u001b[1m13s\u001b[0m 152ms/step - loss: 1.2527 - sparse_categorical_accuracy: 0.5644 - val_loss: 1.0793 - val_sparse_categorical_accuracy: 0.6577\n",
      "Epoch 18/100\n",
      "\u001b[1m84/84\u001b[0m \u001b[32m━━━━━━━━━━━━━━━━━━━━\u001b[0m\u001b[37m\u001b[0m \u001b[1m12s\u001b[0m 148ms/step - loss: 1.1274 - sparse_categorical_accuracy: 0.5999 - val_loss: 1.0634 - val_sparse_categorical_accuracy: 0.6667\n",
      "Epoch 19/100\n",
      "\u001b[1m84/84\u001b[0m \u001b[32m━━━━━━━━━━━━━━━━━━━━\u001b[0m\u001b[37m\u001b[0m \u001b[1m13s\u001b[0m 151ms/step - loss: 1.1047 - sparse_categorical_accuracy: 0.6223 - val_loss: 1.0496 - val_sparse_categorical_accuracy: 0.6517\n",
      "Epoch 20/100\n",
      "\u001b[1m84/84\u001b[0m \u001b[32m━━━━━━━━━━━━━━━━━━━━\u001b[0m\u001b[37m\u001b[0m \u001b[1m13s\u001b[0m 152ms/step - loss: 0.9899 - sparse_categorical_accuracy: 0.6705 - val_loss: 1.0502 - val_sparse_categorical_accuracy: 0.6726\n",
      "Epoch 21/100\n",
      "\u001b[1m84/84\u001b[0m \u001b[32m━━━━━━━━━━━━━━━━━━━━\u001b[0m\u001b[37m\u001b[0m \u001b[1m13s\u001b[0m 151ms/step - loss: 0.9083 - sparse_categorical_accuracy: 0.6844 - val_loss: 0.9297 - val_sparse_categorical_accuracy: 0.7115\n",
      "Epoch 22/100\n",
      "\u001b[1m84/84\u001b[0m \u001b[32m━━━━━━━━━━━━━━━━━━━━\u001b[0m\u001b[37m\u001b[0m \u001b[1m13s\u001b[0m 151ms/step - loss: 0.8275 - sparse_categorical_accuracy: 0.7284 - val_loss: 0.9056 - val_sparse_categorical_accuracy: 0.7280\n",
      "Epoch 23/100\n",
      "\u001b[1m84/84\u001b[0m \u001b[32m━━━━━━━━━━━━━━━━━━━━\u001b[0m\u001b[37m\u001b[0m \u001b[1m13s\u001b[0m 160ms/step - loss: 0.8005 - sparse_categorical_accuracy: 0.7220 - val_loss: 0.8433 - val_sparse_categorical_accuracy: 0.7578\n",
      "Epoch 24/100\n",
      "\u001b[1m84/84\u001b[0m \u001b[32m━━━━━━━━━━━━━━━━━━━━\u001b[0m\u001b[37m\u001b[0m \u001b[1m13s\u001b[0m 155ms/step - loss: 0.6701 - sparse_categorical_accuracy: 0.7775 - val_loss: 0.9786 - val_sparse_categorical_accuracy: 0.7220\n",
      "Epoch 25/100\n",
      "\u001b[1m84/84\u001b[0m \u001b[32m━━━━━━━━━━━━━━━━━━━━\u001b[0m\u001b[37m\u001b[0m \u001b[1m12s\u001b[0m 142ms/step - loss: 0.7133 - sparse_categorical_accuracy: 0.7612 - val_loss: 0.7981 - val_sparse_categorical_accuracy: 0.7773\n",
      "Epoch 26/100\n",
      "\u001b[1m84/84\u001b[0m \u001b[32m━━━━━━━━━━━━━━━━━━━━\u001b[0m\u001b[37m\u001b[0m \u001b[1m13s\u001b[0m 153ms/step - loss: 0.6168 - sparse_categorical_accuracy: 0.8073 - val_loss: 0.9279 - val_sparse_categorical_accuracy: 0.7399\n",
      "Epoch 27/100\n",
      "\u001b[1m84/84\u001b[0m \u001b[32m━━━━━━━━━━━━━━━━━━━━\u001b[0m\u001b[37m\u001b[0m \u001b[1m13s\u001b[0m 152ms/step - loss: 0.5892 - sparse_categorical_accuracy: 0.8030 - val_loss: 0.8222 - val_sparse_categorical_accuracy: 0.7578\n",
      "Epoch 28/100\n",
      "\u001b[1m84/84\u001b[0m \u001b[32m━━━━━━━━━━━━━━━━━━━━\u001b[0m\u001b[37m\u001b[0m \u001b[1m13s\u001b[0m 151ms/step - loss: 0.5476 - sparse_categorical_accuracy: 0.8150 - val_loss: 0.8702 - val_sparse_categorical_accuracy: 0.7773\n",
      "Epoch 29/100\n",
      "\u001b[1m84/84\u001b[0m \u001b[32m━━━━━━━━━━━━━━━━━━━━\u001b[0m\u001b[37m\u001b[0m \u001b[1m13s\u001b[0m 149ms/step - loss: 0.4843 - sparse_categorical_accuracy: 0.8428 - val_loss: 0.8744 - val_sparse_categorical_accuracy: 0.7668\n",
      "Epoch 30/100\n",
      "\u001b[1m84/84\u001b[0m \u001b[32m━━━━━━━━━━━━━━━━━━━━\u001b[0m\u001b[37m\u001b[0m \u001b[1m13s\u001b[0m 151ms/step - loss: 0.4870 - sparse_categorical_accuracy: 0.8329 - val_loss: 0.9990 - val_sparse_categorical_accuracy: 0.7743\n",
      "Epoch 30: early stopping\n"
     ]
    },
    {
     "data": {
      "text/plain": [
       "<keras.src.callbacks.history.History at 0x23073818680>"
      ]
     },
     "execution_count": 82,
     "metadata": {},
     "output_type": "execute_result"
    }
   ],
   "source": [
    "model.fit(\n",
    "    train,\n",
    "    validation_data = test,\n",
    "    epochs = epochs,\n",
    "    callbacks = [\n",
    "        callbacks.EarlyStopping(\n",
    "            monitor = 'val_loss',\n",
    "            patience = patience,\n",
    "            verbose = 1\n",
    "        ),\n",
    "        callbacks.ModelCheckpoint(\n",
    "            filepath = model_path,\n",
    "            save_weights_only = False,\n",
    "            monitor = 'loss',\n",
    "            mode = 'min',\n",
    "            save_best_only = True\n",
    "        )\n",
    "    ]\n",
    ")"
   ]
  }
 ],
 "metadata": {
  "kernelspec": {
   "display_name": "Python 3",
   "language": "python",
   "name": "python3"
  },
  "language_info": {
   "codemirror_mode": {
    "name": "ipython",
    "version": 3
   },
   "file_extension": ".py",
   "mimetype": "text/x-python",
   "name": "python",
   "nbconvert_exporter": "python",
   "pygments_lexer": "ipython3",
   "version": "3.12.1"
  }
 },
 "nbformat": 4,
 "nbformat_minor": 2
}
